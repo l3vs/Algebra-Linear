{
 "metadata": {
  "language_info": {
   "codemirror_mode": {
    "name": "ipython",
    "version": 3
   },
   "file_extension": ".py",
   "mimetype": "text/x-python",
   "name": "python",
   "nbconvert_exporter": "python",
   "pygments_lexer": "ipython3",
   "version": 3
  },
  "orig_nbformat": 2
 },
 "nbformat": 4,
 "nbformat_minor": 2,
 "cells": [
  {
   "source": [
    "# Aproximações Por Mínimos Quadrados\n",
    "\n",
    "Aula dada no [PAPMEN](https://impa.br/ensino/programas-de-formacao/linha-do-tempo-dos-cursos/papmem-janeiro-de-2021/) Janeiro de 2021.\n",
    "\n",
    "* [Vídeo da Aula](https://www.youtube.com/watch?v=eveGRiyDAlI)\n",
    "\n",
    "* [Material](https://impa.br/wp-content/uploads/2021/01/Antonio-Branco-Aproximacao-por-Minimos-Quadrados.pdf)"
   ],
   "cell_type": "markdown",
   "metadata": {}
  },
  {
   "source": [
    "## Lei de Hooke\n",
    "\n",
    "O comprimento $C$ de uma mola em função de uma força $F$ aplicada sobre ela é dado por:\n",
    "\n",
    "$$C = C_0 + kF$$\n",
    "\n",
    "Onde $C_0$ é o comprimento natural da mola e $k$ é a constante de elasticidade da mesma.\n",
    "\n",
    "A tabela a seguir mostra medidas obtidas empiricamente para uma determinada mola:\n",
    "\n",
    "T       | Medida 1 | Medida 2 | Medida 3\n",
    "--------|---------------------------\n",
    "$F$ (gf)| 10       | 20       | 30\n",
    "$C$ (cm)| 13.3     | 3.8      | 15.5\n",
    "\n",
    "1. Qual o comprimento natural da mola?\n",
    "\n",
    "2. Qual o comprimento da mola quando aplicarmos sobre ela uma força de 40 gf?"
   ],
   "cell_type": "markdown",
   "metadata": {}
  },
  {
   "source": [
    "## Exerícios para desenvolvimento da teoria\n",
    "\n",
    "1. Dados os pontos $(1,2)$, $(2,3)$ e $(4,3)$, encontrar por mínimos quadrados uma reta que melhor se ajuste a esses pontos:"
   ],
   "cell_type": "markdown",
   "metadata": {}
  }
 ]
}